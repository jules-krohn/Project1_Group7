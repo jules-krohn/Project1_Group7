{
 "cells": [
  {
   "cell_type": "code",
   "execution_count": 6,
   "id": "7c5b590d",
   "metadata": {},
   "outputs": [],
   "source": [
    "import requests \n",
    "response = requests.get(\"https://services3.arcgis.com/Jdnp1TjADvSDxMAX/ArcGIS/rest/services/dnrFisheries/FeatureServer/13/query?outFields=*&where=1%3D1&f=geojson\")"
   ]
  },
  {
   "cell_type": "code",
   "execution_count": 7,
   "id": "ea498e39",
   "metadata": {},
   "outputs": [],
   "source": [
    "data = response.json()\n"
   ]
  },
  {
   "cell_type": "code",
   "execution_count": 1,
   "id": "2f4fc9cf",
   "metadata": {},
   "outputs": [],
   "source": [
    "import pandas as pd "
   ]
  },
  {
   "cell_type": "code",
   "execution_count": 15,
   "id": "e4776f77",
   "metadata": {},
   "outputs": [
    {
     "data": {
      "text/plain": [
       "{'type': 'Feature',\n",
       " 'id': 1,\n",
       " 'geometry': None,\n",
       " 'properties': {'OBJECTID': 1,\n",
       "  'PK': 40,\n",
       "  'Mode': 'SHORE',\n",
       "  'Site': 1,\n",
       "  'Year': 1985,\n",
       "  'Month': 4,\n",
       "  'Species': 'CWS',\n",
       "  'Effort': None,\n",
       "  'AnglerTrips': 0,\n",
       "  'Harvest': 0,\n",
       "  'Catch': None,\n",
       "  'GlobalID': '0a247c10-ad1d-443e-b460-6c056c032dc1',\n",
       "  'County': 'MENOMINEE',\n",
       "  'Lake': 'MI',\n",
       "  'Port': 'MENOMINEE',\n",
       "  'CreationDate': 1684786156282,\n",
       "  'Creator': 'MichiganDNR',\n",
       "  'EditDate': 1684786156282,\n",
       "  'Editor': 'MichiganDNR'}}"
      ]
     },
     "execution_count": 15,
     "metadata": {},
     "output_type": "execute_result"
    }
   ],
   "source": [
    "data['features'][0]"
   ]
  },
  {
   "cell_type": "code",
   "execution_count": 16,
   "id": "36bf9334",
   "metadata": {},
   "outputs": [],
   "source": [
    "df = pd.DataFrame(data[\"features\"])\n"
   ]
  },
  {
   "cell_type": "code",
   "execution_count": 17,
   "id": "aacd934a",
   "metadata": {},
   "outputs": [
    {
     "data": {
      "text/plain": [
       "(1000, 4)"
      ]
     },
     "execution_count": 17,
     "metadata": {},
     "output_type": "execute_result"
    }
   ],
   "source": [
    "df.shape"
   ]
  },
  {
   "cell_type": "code",
   "execution_count": 18,
   "id": "0710897b",
   "metadata": {},
   "outputs": [
    {
     "data": {
      "text/html": [
       "<div>\n",
       "<style scoped>\n",
       "    .dataframe tbody tr th:only-of-type {\n",
       "        vertical-align: middle;\n",
       "    }\n",
       "\n",
       "    .dataframe tbody tr th {\n",
       "        vertical-align: top;\n",
       "    }\n",
       "\n",
       "    .dataframe thead th {\n",
       "        text-align: right;\n",
       "    }\n",
       "</style>\n",
       "<table border=\"1\" class=\"dataframe\">\n",
       "  <thead>\n",
       "    <tr style=\"text-align: right;\">\n",
       "      <th></th>\n",
       "      <th>type</th>\n",
       "      <th>id</th>\n",
       "      <th>geometry</th>\n",
       "      <th>properties</th>\n",
       "    </tr>\n",
       "  </thead>\n",
       "  <tbody>\n",
       "    <tr>\n",
       "      <th>0</th>\n",
       "      <td>Feature</td>\n",
       "      <td>1</td>\n",
       "      <td>None</td>\n",
       "      <td>{'OBJECTID': 1, 'PK': 40, 'Mode': 'SHORE', 'Si...</td>\n",
       "    </tr>\n",
       "    <tr>\n",
       "      <th>1</th>\n",
       "      <td>Feature</td>\n",
       "      <td>2</td>\n",
       "      <td>None</td>\n",
       "      <td>{'OBJECTID': 2, 'PK': 41, 'Mode': 'SHORE', 'Si...</td>\n",
       "    </tr>\n",
       "    <tr>\n",
       "      <th>2</th>\n",
       "      <td>Feature</td>\n",
       "      <td>3</td>\n",
       "      <td>None</td>\n",
       "      <td>{'OBJECTID': 3, 'PK': 42, 'Mode': 'SHORE', 'Si...</td>\n",
       "    </tr>\n",
       "    <tr>\n",
       "      <th>3</th>\n",
       "      <td>Feature</td>\n",
       "      <td>4</td>\n",
       "      <td>None</td>\n",
       "      <td>{'OBJECTID': 4, 'PK': 43, 'Mode': 'SHORE', 'Si...</td>\n",
       "    </tr>\n",
       "    <tr>\n",
       "      <th>4</th>\n",
       "      <td>Feature</td>\n",
       "      <td>5</td>\n",
       "      <td>None</td>\n",
       "      <td>{'OBJECTID': 5, 'PK': 44, 'Mode': 'SHORE', 'Si...</td>\n",
       "    </tr>\n",
       "  </tbody>\n",
       "</table>\n",
       "</div>"
      ],
      "text/plain": [
       "      type  id geometry                                         properties\n",
       "0  Feature   1     None  {'OBJECTID': 1, 'PK': 40, 'Mode': 'SHORE', 'Si...\n",
       "1  Feature   2     None  {'OBJECTID': 2, 'PK': 41, 'Mode': 'SHORE', 'Si...\n",
       "2  Feature   3     None  {'OBJECTID': 3, 'PK': 42, 'Mode': 'SHORE', 'Si...\n",
       "3  Feature   4     None  {'OBJECTID': 4, 'PK': 43, 'Mode': 'SHORE', 'Si...\n",
       "4  Feature   5     None  {'OBJECTID': 5, 'PK': 44, 'Mode': 'SHORE', 'Si..."
      ]
     },
     "execution_count": 18,
     "metadata": {},
     "output_type": "execute_result"
    }
   ],
   "source": [
    "df.head()"
   ]
  },
  {
   "cell_type": "code",
   "execution_count": 21,
   "id": "fbb6f049",
   "metadata": {},
   "outputs": [
    {
     "data": {
      "text/plain": [
       "{'OBJECTID': 1,\n",
       " 'PK': 40,\n",
       " 'Mode': 'SHORE',\n",
       " 'Site': 1,\n",
       " 'Year': 1985,\n",
       " 'Month': 4,\n",
       " 'Species': 'CWS',\n",
       " 'Effort': None,\n",
       " 'AnglerTrips': 0,\n",
       " 'Harvest': 0,\n",
       " 'Catch': None,\n",
       " 'GlobalID': '0a247c10-ad1d-443e-b460-6c056c032dc1',\n",
       " 'County': 'MENOMINEE',\n",
       " 'Lake': 'MI',\n",
       " 'Port': 'MENOMINEE',\n",
       " 'CreationDate': 1684786156282,\n",
       " 'Creator': 'MichiganDNR',\n",
       " 'EditDate': 1684786156282,\n",
       " 'Editor': 'MichiganDNR'}"
      ]
     },
     "execution_count": 21,
     "metadata": {},
     "output_type": "execute_result"
    }
   ],
   "source": [
    "data[\"features\"][0][\"properties\"]"
   ]
  },
  {
   "cell_type": "code",
   "execution_count": 5,
   "id": "b30fdf96",
   "metadata": {},
   "outputs": [
    {
     "name": "stderr",
     "output_type": "stream",
     "text": [
      "C:\\Users\\Kyle\\AppData\\Local\\Temp\\ipykernel_19680\\3778299148.py:2: DtypeWarning: Columns (0,1,2,3,4,5,6,11,12,13,14,15,16,17,18) have mixed types. Specify dtype option on import or set low_memory=False.\n",
      "  creel = pd.read_csv(creel_path)\n"
     ]
    },
    {
     "data": {
      "text/html": [
       "<div>\n",
       "<style scoped>\n",
       "    .dataframe tbody tr th:only-of-type {\n",
       "        vertical-align: middle;\n",
       "    }\n",
       "\n",
       "    .dataframe tbody tr th {\n",
       "        vertical-align: top;\n",
       "    }\n",
       "\n",
       "    .dataframe thead th {\n",
       "        text-align: right;\n",
       "    }\n",
       "</style>\n",
       "<table border=\"1\" class=\"dataframe\">\n",
       "  <thead>\n",
       "    <tr style=\"text-align: right;\">\n",
       "      <th></th>\n",
       "      <th>OBJECTID</th>\n",
       "      <th>PK</th>\n",
       "      <th>Mode</th>\n",
       "      <th>Site</th>\n",
       "      <th>Year</th>\n",
       "      <th>Month</th>\n",
       "      <th>Species</th>\n",
       "      <th>Effort</th>\n",
       "      <th>AnglerTrips</th>\n",
       "      <th>Harvest</th>\n",
       "      <th>Catch</th>\n",
       "      <th>GlobalID</th>\n",
       "      <th>County</th>\n",
       "      <th>Lake</th>\n",
       "      <th>Port</th>\n",
       "      <th>CreationDate</th>\n",
       "      <th>Creator</th>\n",
       "      <th>EditDate</th>\n",
       "      <th>Editor</th>\n",
       "    </tr>\n",
       "  </thead>\n",
       "  <tbody>\n",
       "    <tr>\n",
       "      <th>890424</th>\n",
       "      <td>)\"</td>\n",
       "      <td>2023/05/22 20:09:16.282+00</td>\n",
       "      <td>MichiganDNR</td>\n",
       "      <td>2023/05/22 20:09:16.282+00</td>\n",
       "      <td>MichiganDNR</td>\n",
       "      <td>NaN</td>\n",
       "      <td>NaN</td>\n",
       "      <td>NaN</td>\n",
       "      <td>NaN</td>\n",
       "      <td>NaN</td>\n",
       "      <td>NaN</td>\n",
       "      <td>NaN</td>\n",
       "      <td>NaN</td>\n",
       "      <td>NaN</td>\n",
       "      <td>NaN</td>\n",
       "      <td>NaN</td>\n",
       "      <td>NaN</td>\n",
       "      <td>NaN</td>\n",
       "      <td>NaN</td>\n",
       "    </tr>\n",
       "    <tr>\n",
       "      <th>890425</th>\n",
       "      <td>)\"</td>\n",
       "      <td>2023/05/22 20:09:16.282+00</td>\n",
       "      <td>MichiganDNR</td>\n",
       "      <td>2023/05/22 20:09:16.282+00</td>\n",
       "      <td>MichiganDNR</td>\n",
       "      <td>NaN</td>\n",
       "      <td>NaN</td>\n",
       "      <td>NaN</td>\n",
       "      <td>NaN</td>\n",
       "      <td>NaN</td>\n",
       "      <td>NaN</td>\n",
       "      <td>NaN</td>\n",
       "      <td>NaN</td>\n",
       "      <td>NaN</td>\n",
       "      <td>NaN</td>\n",
       "      <td>NaN</td>\n",
       "      <td>NaN</td>\n",
       "      <td>NaN</td>\n",
       "      <td>NaN</td>\n",
       "    </tr>\n",
       "    <tr>\n",
       "      <th>890426</th>\n",
       "      <td>)\"</td>\n",
       "      <td>2023/05/22 20:09:16.282+00</td>\n",
       "      <td>MichiganDNR</td>\n",
       "      <td>2023/05/22 20:09:16.282+00</td>\n",
       "      <td>MichiganDNR</td>\n",
       "      <td>NaN</td>\n",
       "      <td>NaN</td>\n",
       "      <td>NaN</td>\n",
       "      <td>NaN</td>\n",
       "      <td>NaN</td>\n",
       "      <td>NaN</td>\n",
       "      <td>NaN</td>\n",
       "      <td>NaN</td>\n",
       "      <td>NaN</td>\n",
       "      <td>NaN</td>\n",
       "      <td>NaN</td>\n",
       "      <td>NaN</td>\n",
       "      <td>NaN</td>\n",
       "      <td>NaN</td>\n",
       "    </tr>\n",
       "    <tr>\n",
       "      <th>890427</th>\n",
       "      <td>)\"</td>\n",
       "      <td>2023/05/22 20:09:16.282+00</td>\n",
       "      <td>MichiganDNR</td>\n",
       "      <td>2023/05/22 20:09:16.282+00</td>\n",
       "      <td>MichiganDNR</td>\n",
       "      <td>NaN</td>\n",
       "      <td>NaN</td>\n",
       "      <td>NaN</td>\n",
       "      <td>NaN</td>\n",
       "      <td>NaN</td>\n",
       "      <td>NaN</td>\n",
       "      <td>NaN</td>\n",
       "      <td>NaN</td>\n",
       "      <td>NaN</td>\n",
       "      <td>NaN</td>\n",
       "      <td>NaN</td>\n",
       "      <td>NaN</td>\n",
       "      <td>NaN</td>\n",
       "      <td>NaN</td>\n",
       "    </tr>\n",
       "    <tr>\n",
       "      <th>890428</th>\n",
       "      <td>)\"</td>\n",
       "      <td>2023/05/22 20:09:16.282+00</td>\n",
       "      <td>MichiganDNR</td>\n",
       "      <td>2023/05/22 20:09:16.282+00</td>\n",
       "      <td>MichiganDNR</td>\n",
       "      <td>NaN</td>\n",
       "      <td>NaN</td>\n",
       "      <td>NaN</td>\n",
       "      <td>NaN</td>\n",
       "      <td>NaN</td>\n",
       "      <td>NaN</td>\n",
       "      <td>NaN</td>\n",
       "      <td>NaN</td>\n",
       "      <td>NaN</td>\n",
       "      <td>NaN</td>\n",
       "      <td>NaN</td>\n",
       "      <td>NaN</td>\n",
       "      <td>NaN</td>\n",
       "      <td>NaN</td>\n",
       "    </tr>\n",
       "  </tbody>\n",
       "</table>\n",
       "</div>"
      ],
      "text/plain": [
       "       OBJECTID                          PK         Mode  \\\n",
       "890424       )\"  2023/05/22 20:09:16.282+00  MichiganDNR   \n",
       "890425       )\"  2023/05/22 20:09:16.282+00  MichiganDNR   \n",
       "890426       )\"  2023/05/22 20:09:16.282+00  MichiganDNR   \n",
       "890427       )\"  2023/05/22 20:09:16.282+00  MichiganDNR   \n",
       "890428       )\"  2023/05/22 20:09:16.282+00  MichiganDNR   \n",
       "\n",
       "                              Site         Year Month Species  Effort  \\\n",
       "890424  2023/05/22 20:09:16.282+00  MichiganDNR   NaN     NaN     NaN   \n",
       "890425  2023/05/22 20:09:16.282+00  MichiganDNR   NaN     NaN     NaN   \n",
       "890426  2023/05/22 20:09:16.282+00  MichiganDNR   NaN     NaN     NaN   \n",
       "890427  2023/05/22 20:09:16.282+00  MichiganDNR   NaN     NaN     NaN   \n",
       "890428  2023/05/22 20:09:16.282+00  MichiganDNR   NaN     NaN     NaN   \n",
       "\n",
       "        AnglerTrips  Harvest  Catch GlobalID County Lake Port CreationDate  \\\n",
       "890424          NaN      NaN    NaN      NaN    NaN  NaN  NaN          NaN   \n",
       "890425          NaN      NaN    NaN      NaN    NaN  NaN  NaN          NaN   \n",
       "890426          NaN      NaN    NaN      NaN    NaN  NaN  NaN          NaN   \n",
       "890427          NaN      NaN    NaN      NaN    NaN  NaN  NaN          NaN   \n",
       "890428          NaN      NaN    NaN      NaN    NaN  NaN  NaN          NaN   \n",
       "\n",
       "       Creator EditDate Editor  \n",
       "890424     NaN      NaN    NaN  \n",
       "890425     NaN      NaN    NaN  \n",
       "890426     NaN      NaN    NaN  \n",
       "890427     NaN      NaN    NaN  \n",
       "890428     NaN      NaN    NaN  "
      ]
     },
     "execution_count": 5,
     "metadata": {},
     "output_type": "execute_result"
    }
   ],
   "source": [
    "creel_path = \"Michigan_Creel_Data_Harvest1.csv\"\n",
    "creel = pd.read_csv(creel_path)\n",
    "creel.tail()\n"
   ]
  },
  {
   "cell_type": "code",
   "execution_count": null,
   "id": "62f8f6d8",
   "metadata": {},
   "outputs": [],
   "source": []
  }
 ],
 "metadata": {
  "kernelspec": {
   "display_name": "Python 3 (ipykernel)",
   "language": "python",
   "name": "python3"
  },
  "language_info": {
   "codemirror_mode": {
    "name": "ipython",
    "version": 3
   },
   "file_extension": ".py",
   "mimetype": "text/x-python",
   "name": "python",
   "nbconvert_exporter": "python",
   "pygments_lexer": "ipython3",
   "version": "3.10.11"
  }
 },
 "nbformat": 4,
 "nbformat_minor": 5
}
